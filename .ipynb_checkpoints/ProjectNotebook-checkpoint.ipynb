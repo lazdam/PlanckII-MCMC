{
 "cells": [
  {
   "cell_type": "code",
   "execution_count": 1,
   "id": "061a2670",
   "metadata": {},
   "outputs": [],
   "source": [
    "import numpy as np\n",
    "import matplotlib.pyplot as plt"
   ]
  },
  {
   "cell_type": "markdown",
   "id": "9ebe1a43",
   "metadata": {},
   "source": [
    "The purpose of this notebook is to provide a walkthrough of my thought process behind my decisions/code. In this notebook, I will use MCMCs and data from the Planck Public Release II to constrain various cosmological parameters. "
   ]
  },
  {
   "cell_type": "markdown",
   "id": "9e5ea006",
   "metadata": {},
   "source": [
    "### Importing pypico"
   ]
  },
  {
   "cell_type": "markdown",
   "id": "8c6a0e9d",
   "metadata": {},
   "source": [
    "Pypico (Parameters for the Impatient Cosmologist) is a package that computes the CMB power spectra and matter transfer functions at a much quicker rate versus other packages (such as CAMB). It does this by interpolating through \"training data\", which for the purpose of this project, will be sufficient enough. The test data was obtained from [https://github.com/marius311/pypico-trainer/releases](here). "
   ]
  },
  {
   "cell_type": "code",
   "execution_count": 4,
   "id": "34b54ac9",
   "metadata": {},
   "outputs": [],
   "source": [
    "import pypico\n",
    "path_to_data = '/home/mattias/Desktop/McGill/W2022/PHYS321-Final-Project/data/jcset_py3.dat'\n",
    "pico = pypico.load_pico(path_to_data)"
   ]
  },
  {
   "cell_type": "code",
   "execution_count": 5,
   "id": "c303a2b7",
   "metadata": {},
   "outputs": [
    {
     "data": {
      "text/plain": [
       "['As', 'ns', 'tau', 'ombh2', 'omch2', 'H0', 'omk']"
      ]
     },
     "execution_count": 5,
     "metadata": {},
     "output_type": "execute_result"
    }
   ],
   "source": [
    "# This data will accept the following input cosmological parameters: \n",
    "pico.inputs()"
   ]
  },
  {
   "cell_type": "code",
   "execution_count": 6,
   "id": "f749da87",
   "metadata": {},
   "outputs": [
    {
     "data": {
      "text/plain": [
       "['cl_TT']"
      ]
     },
     "execution_count": 6,
     "metadata": {},
     "output_type": "execute_result"
    }
   ],
   "source": [
    "# The outputted quantity can be obtained by calling\n",
    "pico.outputs()"
   ]
  },
  {
   "cell_type": "code",
   "execution_count": 14,
   "id": "e331373e",
   "metadata": {},
   "outputs": [
    {
     "data": {
      "text/plain": [
       "{'As': 2.08e-09,\n",
       " 'ns': 0.97,\n",
       " 'tau': 0.055,\n",
       " 'ombh2': 0.0225,\n",
       " 'omch2': 0.117,\n",
       " 'H0': 50,\n",
       " 'omk': -0.05,\n",
       " 'pivot_scalar': 0.05}"
      ]
     },
     "execution_count": 14,
     "metadata": {},
     "output_type": "execute_result"
    }
   ],
   "source": [
    "# Finally, to obtain the result, we define a dictionary of parameters with keys for each input\n",
    "# To get a sample set of inputs, we can call\n",
    "pico.example_inputs()"
   ]
  },
  {
   "cell_type": "code",
   "execution_count": 44,
   "id": "420fc533",
   "metadata": {},
   "outputs": [
    {
     "data": {
      "image/png": "[encoded data removed]",
      "text/plain": [
       "<Figure size 1080x360 with 1 Axes>"
      ]
     },
     "metadata": {
      "needs_background": "light"
     },
     "output_type": "display_data"
    }
   ],
   "source": [
    "# Now we can get our results \n",
    "As, ns, tau, ombh2, omch2, H0, omk = 2e-9, 0.97, 0.055, 0.023, 0.117, 50, -0.05\n",
    "inputs = {'As':As, 'ns':ns, 'tau':tau, 'ombh2':ombh2, 'omch2':omch2, 'H0':H0, 'omk':omk}\n",
    "output = pico.get(**inputs)\n",
    "dl_TT = output['dl_TT']\n",
    "npts_simulation = len(dl_TT)\n",
    "\n",
    "# Plot\n",
    "plt.figure(figsize=(15,5))\n",
    "plt.plot(dl_TT, color='firebrick')\n",
    "plt.xlabel(r'$\\ell$')\n",
    "plt.ylabel(r'$\\frac{\\ell(\\ell +1)C_\\ell}{2\\pi}$')\n",
    "plt.grid()\n",
    "plt.show()\n"
   ]
  },
  {
   "cell_type": "code",
   "execution_count": 36,
   "id": "bbc5799a",
   "metadata": {},
   "outputs": [],
   "source": [
    "# Let's combine this into a single function so we can use it later \n",
    "def get_spectrum(pars):\n",
    "    '''\n",
    "    Computes the power spectrum for a given set of parameters. \n",
    "    \n",
    "    Parameters:\n",
    "    -----------\n",
    "    pars: dictionary \n",
    "        Dictionary containing input parameters as keys and value as value. The following parameters must be specified: \n",
    "            1. As\n",
    "            2. ns\n",
    "            3. tau\n",
    "            4. omch2\n",
    "            5. ombh2\n",
    "            6. omk\n",
    "            7. H0\n",
    "    '''\n",
    "    # Get spectrum (output is a dictionary)\n",
    "    spec_dict = pico.get(**inputs)\n",
    "    dl_TT = output['dl_TT']\n",
    "    \n",
    "    return dl_TT"
   ]
  },
  {
   "cell_type": "markdown",
   "id": "722db6e7",
   "metadata": {},
   "source": [
    "### Loading in the Planck Spectrum"
   ]
  },
  {
   "cell_type": "code",
   "execution_count": 37,
   "id": "ec8607b7",
   "metadata": {},
   "outputs": [],
   "source": [
    "planck = np.loadtxt('data/COM_PowerSpect_CMB-TT-full_R3.01.txt', skiprows = 1)\n",
    "spectrum = planck[:,1]\n",
    "errors = 0.5*(planck[:,2] + planck[:,3])\n",
    "npts = len(spectrum)\n",
    "npars = 6"
   ]
  },
  {
   "cell_type": "code",
   "execution_count": null,
   "id": "e9ec9f12",
   "metadata": {},
   "outputs": [],
   "source": []
  }
 ],
 "metadata": {
  "kernelspec": {
   "display_name": "Python 3 (ipykernel)",
   "language": "python",
   "name": "python3"
  },
  "language_info": {
   "codemirror_mode": {
    "name": "ipython",
    "version": 3
   },
   "file_extension": ".py",
   "mimetype": "text/x-python",
   "name": "python",
   "nbconvert_exporter": "python",
   "pygments_lexer": "ipython3",
   "version": "3.9.7"
  }
 },
 "nbformat": 4,
 "nbformat_minor": 5
}
